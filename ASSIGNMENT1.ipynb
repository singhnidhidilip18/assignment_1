{
 "cells": [
  {
   "cell_type": "code",
   "execution_count": 8,
   "id": "b47c8b11",
   "metadata": {},
   "outputs": [
    {
     "name": "stdout",
     "output_type": "stream",
     "text": [
      "i am ssyyttll\n"
     ]
    }
   ],
   "source": [
    "a=input(\"i am ssyytt\")\n",
    "if int('k'+'i'+'r'==9):\n",
    "    print('kirti')"
   ]
  },
  {
   "cell_type": "code",
   "execution_count": 7,
   "id": "49a4e3e1",
   "metadata": {},
   "outputs": [
    {
     "data": {
      "text/plain": [
       "\"'\\nWrite a python function to find and display the five \\ndigit number in which the first digit is two more than \\nthe second,the second digit is two more than the third,\\nthe fourth digit is two less than the third, and the \\nlast digit is two more than\\nthe fourth.The sum of the third,fourth and fifth digits\\nequals the first.The sum of all the digits is 19\\n\""
      ]
     },
     "execution_count": 7,
     "metadata": {},
     "output_type": "execute_result"
    }
   ],
   "source": [
    "''''\n",
    "Write a python function to find and display the five \n",
    "digit number in which the first digit is two more than \n",
    "the second,the second digit is two more than the third,\n",
    "the fourth digit is two less than the third, and the \n",
    "last digit is two more than\n",
    "the fourth.The sum of the third,fourth and fifth digits\n",
    "equals the first.The sum of all the digits is 19\n",
    "'''"
   ]
  },
  {
   "cell_type": "code",
   "execution_count": 1,
   "id": "ae541c45",
   "metadata": {},
   "outputs": [],
   "source": [
    "def find_five_no():\n",
    "    for i in range(9,0,-1):\n",
    "        first=i\n",
    "        second=i-2\n",
    "        third=i-4\n",
    "        fourth=i-6\n",
    "        fifth=i-4\n",
    "        \n",
    "        if third+fourth+fifth==first:\n",
    "            if(first+second+third+fourth+fifth)==19:\n",
    "                return(int(str(first)+str(second)+str(third)+str(fourth)+str(fifth)))\n",
    "                "
   ]
  },
  {
   "cell_type": "code",
   "execution_count": 2,
   "id": "c7a76b6e",
   "metadata": {},
   "outputs": [
    {
     "data": {
      "text/plain": [
       "75313"
      ]
     },
     "execution_count": 2,
     "metadata": {},
     "output_type": "execute_result"
    }
   ],
   "source": [
    "find_five_no()"
   ]
  },
  {
   "cell_type": "code",
   "execution_count": 3,
   "id": "e351a247",
   "metadata": {},
   "outputs": [
    {
     "data": {
      "text/plain": [
       "'C:\\\\Users\\\\nidhi'"
      ]
     },
     "execution_count": 3,
     "metadata": {},
     "output_type": "execute_result"
    }
   ],
   "source": [
    "pwd"
   ]
  },
  {
   "cell_type": "code",
   "execution_count": null,
   "id": "deda961e",
   "metadata": {},
   "outputs": [],
   "source": [
    "'''\n",
    "Given a list, write a Python program to swap first and last element of the list, using function\n",
    "''"
   ]
  },
  {
   "cell_type": "code",
   "execution_count": 15,
   "id": "049a6073",
   "metadata": {},
   "outputs": [
    {
     "name": "stdout",
     "output_type": "stream",
     "text": [
      "[80, 20, 30, 40, 50, 60, 70, 10]\n"
     ]
    }
   ],
   "source": [
    "a=[10,20,30,40,50,60,70,80]\n",
    "temp=a[0]\n",
    "a[0]=a[7]\n",
    "a[7]=temp\n",
    "print(a)\n",
    "    "
   ]
  },
  {
   "cell_type": "code",
   "execution_count": 16,
   "id": "78212d06",
   "metadata": {},
   "outputs": [],
   "source": [
    "def swap(a):\n",
    "    temp=a[0]\n",
    "    a[0]=a[7]\n",
    "    a[7]=temp\n",
    "    return a\n",
    "a=[10,20,30,40,50,60,70,80] \n",
    "    "
   ]
  },
  {
   "cell_type": "code",
   "execution_count": 18,
   "id": "76bc34d7",
   "metadata": {},
   "outputs": [
    {
     "data": {
      "text/plain": [
       "[80, 20, 30, 40, 50, 60, 70, 10]"
      ]
     },
     "execution_count": 18,
     "metadata": {},
     "output_type": "execute_result"
    }
   ],
   "source": [
    "swap(a)"
   ]
  },
  {
   "cell_type": "code",
   "execution_count": null,
   "id": "f9b30d1b",
   "metadata": {},
   "outputs": [],
   "source": []
  }
 ],
 "metadata": {
  "kernelspec": {
   "display_name": "Python 3 (ipykernel)",
   "language": "python",
   "name": "python3"
  },
  "language_info": {
   "codemirror_mode": {
    "name": "ipython",
    "version": 3
   },
   "file_extension": ".py",
   "mimetype": "text/x-python",
   "name": "python",
   "nbconvert_exporter": "python",
   "pygments_lexer": "ipython3",
   "version": "3.9.12"
  }
 },
 "nbformat": 4,
 "nbformat_minor": 5
}
